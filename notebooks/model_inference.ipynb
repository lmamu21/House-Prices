{
 "cells": [
  {
   "cell_type": "code",
   "execution_count": null,
   "metadata": {},
   "outputs": [],
   "source": [
    "import pandas as pd\n",
    "import numpy as np\n",
    "import mlflow.pyfunc\n",
    "import joblib\n",
    "from sklearn.preprocessing import StandardScaler\n",
    "from sklearn.feature_selection import RFE\n",
    "\n",
    "X_test = pd.read_csv(\"../data/test.csv\")\n",
    "\n",
    "# X_test should be then processed to clean NA values, convert \n",
    "# Categorical values to numericals and so on, but I have done that \n",
    "# by hand on Train sets and don't have Preprocessor class\n",
    "\n",
    "scaler = joblib.load(\"standard_scaler.pkl\")\n",
    "rfe = joblib.load(\"rfe_selector.pkl\")\n",
    "\n",
    "X_test_scaled = scaler.transform(X_test)\n",
    "X_test_selected = rfe.transform(X_test_scaled)\n",
    "\n",
    "model_uri = \"models:/BestHousePriceModel/Production\"\n",
    "model = mlflow.sklearn.load_model(model_uri)\n",
    "\n",
    "y_pred = model.predict(X_test_selected)\n",
    "\n",
    "submission = pd.DataFrame({\n",
    "    \"Id\": pd.read_csv(\"../data/test.csv\")[\"Id\"],\n",
    "    \"SalePrice\": y_pred\n",
    "})\n",
    "submission.to_csv(\"submission.csv\", index=False)\n",
    "\n"
   ]
  }
 ],
 "metadata": {
  "kernelspec": {
   "display_name": "venv",
   "language": "python",
   "name": "python3"
  },
  "language_info": {
   "codemirror_mode": {
    "name": "ipython",
    "version": 3
   },
   "file_extension": ".py",
   "mimetype": "text/x-python",
   "name": "python",
   "nbconvert_exporter": "python",
   "pygments_lexer": "ipython3",
   "version": "3.12.3"
  }
 },
 "nbformat": 4,
 "nbformat_minor": 2
}
