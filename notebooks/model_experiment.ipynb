{
 "cells": [
  {
   "cell_type": "markdown",
   "metadata": {},
   "source": [
    "# imports and setup"
   ]
  },
  {
   "cell_type": "code",
   "execution_count": 96,
   "metadata": {},
   "outputs": [],
   "source": [
    "import pandas as pd\n",
    "import numpy as np\n",
    "from sklearn.model_selection import train_test_split"
   ]
  },
  {
   "cell_type": "code",
   "execution_count": 97,
   "metadata": {},
   "outputs": [
    {
     "data": {
      "text/html": [
       "<pre style=\"white-space:pre;overflow-x:auto;line-height:normal;font-family:Menlo,'DejaVu Sans Mono',consolas,'Courier New',monospace\">Initialized MLflow to track repo <span style=\"color: #008000; text-decoration-color: #008000\">\"lmamu21/House-Prices\"</span>\n",
       "</pre>\n"
      ],
      "text/plain": [
       "Initialized MLflow to track repo \u001b[32m\"lmamu21/House-Prices\"\u001b[0m\n"
      ]
     },
     "metadata": {},
     "output_type": "display_data"
    },
    {
     "data": {
      "text/html": [
       "<pre style=\"white-space:pre;overflow-x:auto;line-height:normal;font-family:Menlo,'DejaVu Sans Mono',consolas,'Courier New',monospace\">Repository lmamu21/House-Prices initialized!\n",
       "</pre>\n"
      ],
      "text/plain": [
       "Repository lmamu21/House-Prices initialized!\n"
      ]
     },
     "metadata": {},
     "output_type": "display_data"
    }
   ],
   "source": [
    "# dagshub setup\n",
    "import dagshub\n",
    "\n",
    "dagshub.init(repo_owner='lmamu21', repo_name='House-Prices', mlflow=True)"
   ]
  },
  {
   "cell_type": "code",
   "execution_count": 98,
   "metadata": {},
   "outputs": [],
   "source": [
    "import os\n",
    "os.environ['MLFLOW_TRACKING_USERNAME'] = 'lmamu21' \n",
    "os.environ['MLFLOW_TRACKING_PASSWORD'] = 'd392b86afa2c37911a6814230b474c4b5df06fcb'\n",
    "os.environ['MLFLOW_TRACKING_URI'] = 'https://dagshub.com/lmamu21/House-Prices.mlflow'"
   ]
  },
  {
   "cell_type": "code",
   "execution_count": 99,
   "metadata": {},
   "outputs": [
    {
     "data": {
      "text/plain": [
       "<Experiment: artifact_location='mlflow-artifacts:/f9ed4fdc67b34e6b8b9d059aa67ad3d5', creation_time=1744051643876, experiment_id='3', last_update_time=1744051643876, lifecycle_stage='active', name='House-Prices', tags={}>"
      ]
     },
     "execution_count": 99,
     "metadata": {},
     "output_type": "execute_result"
    }
   ],
   "source": [
    "import mlflow\n",
    "mlflow.set_tracking_uri(\"https://dagshub.com/lmamu21/House-Prices.mlflow\")\n",
    "mlflow.set_experiment(\"House-Prices\")"
   ]
  },
  {
   "cell_type": "code",
   "execution_count": 100,
   "metadata": {},
   "outputs": [],
   "source": [
    "test = pd.read_csv(\"../data/test.csv\")\n",
    "train = pd.read_csv(\"../data/train.csv\")\n",
    "sample = pd.read_csv(\"../data/sample_submission.csv\")\n"
   ]
  },
  {
   "cell_type": "code",
   "execution_count": null,
   "metadata": {},
   "outputs": [],
   "source": [
    "X_train, X_test, y_train, y_test = train_test_split(X, y, test_size=0.2, random_state=42)\n"
   ]
  },
  {
   "cell_type": "markdown",
   "metadata": {},
   "source": [
    "# data cleaning"
   ]
  },
  {
   "cell_type": "code",
   "execution_count": 144,
   "metadata": {},
   "outputs": [],
   "source": [
    "train_ids = X_train.pop('Id')\n",
    "test_ids = X_test.pop('Id')"
   ]
  },
  {
   "cell_type": "markdown",
   "metadata": {},
   "source": [
    "### NA values"
   ]
  },
  {
   "cell_type": "code",
   "execution_count": 102,
   "metadata": {},
   "outputs": [
    {
     "name": "stdout",
     "output_type": "stream",
     "text": [
      "LotFrontage     0.185788\n",
      "Alley           0.936644\n",
      "MasVnrType      0.584760\n",
      "MasVnrArea      0.005137\n",
      "BsmtQual        0.023973\n",
      "BsmtCond        0.023973\n",
      "BsmtExposure    0.023973\n",
      "BsmtFinType1    0.023973\n",
      "BsmtFinType2    0.023973\n",
      "Electrical      0.000856\n",
      "FireplaceQu     0.468322\n",
      "GarageType      0.054795\n",
      "GarageYrBlt     0.054795\n",
      "GarageFinish    0.054795\n",
      "GarageQual      0.054795\n",
      "GarageCond      0.054795\n",
      "PoolQC          0.994863\n",
      "Fence           0.800514\n",
      "MiscFeature     0.960616\n",
      "dtype: float64\n"
     ]
    }
   ],
   "source": [
    "with pd.option_context('display.max_rows', None):\n",
    "    print(X_train.isna().mean()[X_train.isna().mean() > 0])"
   ]
  },
  {
   "cell_type": "code",
   "execution_count": 103,
   "metadata": {},
   "outputs": [
    {
     "name": "stdout",
     "output_type": "stream",
     "text": [
      "PoolArea\n",
      "0      1162\n",
      "648       1\n",
      "555       1\n",
      "480       1\n",
      "512       1\n",
      "519       1\n",
      "738       1\n",
      "Name: count, dtype: int64\n",
      "PoolQC\n",
      "Fa    2\n",
      "Ex    2\n",
      "Gd    2\n",
      "Name: count, dtype: int64\n",
      "0.9948630136986302\n"
     ]
    }
   ],
   "source": [
    "print(X_train['PoolArea'].value_counts())\n",
    "print(X_train['PoolQC'].value_counts())\n",
    "print(X_train['PoolQC'].isna().mean())    # 99.4% of PoolQC records are NA"
   ]
  },
  {
   "cell_type": "code",
   "execution_count": null,
   "metadata": {},
   "outputs": [],
   "source": [
    "X_train.pop('PoolQC')\n",
    "with pd.option_context('display.max_rows', None):\n",
    "    print(X_train.isna().mean()[X_train.isna().mean() > 0])"
   ]
  },
  {
   "cell_type": "code",
   "execution_count": 81,
   "metadata": {},
   "outputs": [
    {
     "data": {
      "text/plain": [
       "MiscVal\n",
       "0        1124\n",
       "400         8\n",
       "500         8\n",
       "700         5\n",
       "450         4\n",
       "2000        4\n",
       "1200        2\n",
       "480         2\n",
       "15500       1\n",
       "600         1\n",
       "3500        1\n",
       "8300        1\n",
       "1300        1\n",
       "800         1\n",
       "350         1\n",
       "620         1\n",
       "1150        1\n",
       "1400        1\n",
       "2500        1\n",
       "Name: count, dtype: int64"
      ]
     },
     "execution_count": 81,
     "metadata": {},
     "output_type": "execute_result"
    }
   ],
   "source": [
    "X_train['MiscFeature'].value_counts()\n",
    "X_train['MiscVal'].value_counts()"
   ]
  },
  {
   "cell_type": "code",
   "execution_count": 107,
   "metadata": {},
   "outputs": [
    {
     "data": {
      "text/plain": [
       "254     0\n",
       "1066    0\n",
       "638     0\n",
       "799     0\n",
       "380     0\n",
       "       ..\n",
       "1095    0\n",
       "1130    0\n",
       "1294    0\n",
       "860     0\n",
       "1126    0\n",
       "Name: MiscVal, Length: 1168, dtype: int64"
      ]
     },
     "execution_count": 107,
     "metadata": {},
     "output_type": "execute_result"
    }
   ],
   "source": [
    "X_train.pop('MiscFeature')\n",
    "X_train.pop('MiscVal')"
   ]
  },
  {
   "cell_type": "code",
   "execution_count": 108,
   "metadata": {},
   "outputs": [
    {
     "name": "stdout",
     "output_type": "stream",
     "text": [
      "LotFrontage     0.185788\n",
      "Alley           0.936644\n",
      "MasVnrType      0.584760\n",
      "MasVnrArea      0.005137\n",
      "BsmtQual        0.023973\n",
      "BsmtCond        0.023973\n",
      "BsmtExposure    0.023973\n",
      "BsmtFinType1    0.023973\n",
      "BsmtFinType2    0.023973\n",
      "Electrical      0.000856\n",
      "FireplaceQu     0.468322\n",
      "GarageType      0.054795\n",
      "GarageYrBlt     0.054795\n",
      "GarageFinish    0.054795\n",
      "GarageQual      0.054795\n",
      "GarageCond      0.054795\n",
      "Fence           0.800514\n",
      "dtype: float64\n"
     ]
    }
   ],
   "source": [
    "with pd.option_context('display.max_rows', None):\n",
    "    print(X_train.isna().mean()[X_train.isna().mean() > 0])"
   ]
  },
  {
   "cell_type": "code",
   "execution_count": 109,
   "metadata": {},
   "outputs": [
    {
     "data": {
      "text/plain": [
       "Alley\n",
       "Grvl    44\n",
       "Pave    30\n",
       "Name: count, dtype: int64"
      ]
     },
     "execution_count": 109,
     "metadata": {},
     "output_type": "execute_result"
    }
   ],
   "source": [
    "X_train['Alley'].value_counts()"
   ]
  },
  {
   "cell_type": "code",
   "execution_count": 110,
   "metadata": {},
   "outputs": [
    {
     "data": {
      "text/plain": [
       "254      NaN\n",
       "1066     NaN\n",
       "638      NaN\n",
       "799      NaN\n",
       "380     Pave\n",
       "        ... \n",
       "1095     NaN\n",
       "1130     NaN\n",
       "1294     NaN\n",
       "860      NaN\n",
       "1126     NaN\n",
       "Name: Alley, Length: 1168, dtype: object"
      ]
     },
     "execution_count": 110,
     "metadata": {},
     "output_type": "execute_result"
    }
   ],
   "source": [
    "X_train.pop('Alley')"
   ]
  },
  {
   "cell_type": "code",
   "execution_count": 111,
   "metadata": {},
   "outputs": [
    {
     "name": "stdout",
     "output_type": "stream",
     "text": [
      "LotFrontage     0.185788\n",
      "MasVnrType      0.584760\n",
      "MasVnrArea      0.005137\n",
      "BsmtQual        0.023973\n",
      "BsmtCond        0.023973\n",
      "BsmtExposure    0.023973\n",
      "BsmtFinType1    0.023973\n",
      "BsmtFinType2    0.023973\n",
      "Electrical      0.000856\n",
      "FireplaceQu     0.468322\n",
      "GarageType      0.054795\n",
      "GarageYrBlt     0.054795\n",
      "GarageFinish    0.054795\n",
      "GarageQual      0.054795\n",
      "GarageCond      0.054795\n",
      "Fence           0.800514\n",
      "dtype: float64\n"
     ]
    }
   ],
   "source": [
    "with pd.option_context('display.max_rows', None):\n",
    "    print(X_train.isna().mean()[X_train.isna().mean() > 0])"
   ]
  },
  {
   "cell_type": "code",
   "execution_count": 112,
   "metadata": {},
   "outputs": [
    {
     "data": {
      "text/plain": [
       "Fence\n",
       "MnPrv    128\n",
       "GdPrv     50\n",
       "GdWo      46\n",
       "MnWw       9\n",
       "Name: count, dtype: int64"
      ]
     },
     "execution_count": 112,
     "metadata": {},
     "output_type": "execute_result"
    }
   ],
   "source": [
    "X_train['Fence'].value_counts()"
   ]
  },
  {
   "cell_type": "code",
   "execution_count": 113,
   "metadata": {},
   "outputs": [],
   "source": [
    "X_train['Fence'] = X_train['Fence'].notna()"
   ]
  },
  {
   "cell_type": "code",
   "execution_count": 114,
   "metadata": {},
   "outputs": [
    {
     "data": {
      "text/plain": [
       "Fence\n",
       "False    935\n",
       "True     233\n",
       "Name: count, dtype: int64"
      ]
     },
     "execution_count": 114,
     "metadata": {},
     "output_type": "execute_result"
    }
   ],
   "source": [
    "X_train['Fence'].value_counts()"
   ]
  },
  {
   "cell_type": "code",
   "execution_count": 115,
   "metadata": {},
   "outputs": [
    {
     "name": "stdout",
     "output_type": "stream",
     "text": [
      "LotFrontage     0.185788\n",
      "MasVnrType      0.584760\n",
      "MasVnrArea      0.005137\n",
      "BsmtQual        0.023973\n",
      "BsmtCond        0.023973\n",
      "BsmtExposure    0.023973\n",
      "BsmtFinType1    0.023973\n",
      "BsmtFinType2    0.023973\n",
      "Electrical      0.000856\n",
      "FireplaceQu     0.468322\n",
      "GarageType      0.054795\n",
      "GarageYrBlt     0.054795\n",
      "GarageFinish    0.054795\n",
      "GarageQual      0.054795\n",
      "GarageCond      0.054795\n",
      "dtype: float64\n"
     ]
    }
   ],
   "source": [
    "with pd.option_context('display.max_rows', None):\n",
    "    print(X_train.isna().mean()[X_train.isna().mean() > 0])"
   ]
  },
  {
   "cell_type": "code",
   "execution_count": 127,
   "metadata": {},
   "outputs": [
    {
     "data": {
      "text/plain": [
       "np.float64(0.5847602739726028)"
      ]
     },
     "execution_count": 127,
     "metadata": {},
     "output_type": "execute_result"
    }
   ],
   "source": [
    "X_train['MasVnrType'].isna().mean()"
   ]
  },
  {
   "cell_type": "code",
   "execution_count": 128,
   "metadata": {},
   "outputs": [
    {
     "data": {
      "text/plain": [
       "254         NaN\n",
       "1066        NaN\n",
       "638         NaN\n",
       "799     BrkFace\n",
       "380         NaN\n",
       "         ...   \n",
       "1095        NaN\n",
       "1130        NaN\n",
       "1294        NaN\n",
       "860         NaN\n",
       "1126    BrkFace\n",
       "Name: MasVnrType, Length: 1168, dtype: object"
      ]
     },
     "execution_count": 128,
     "metadata": {},
     "output_type": "execute_result"
    }
   ],
   "source": [
    "X_train.pop('MasVnrType')"
   ]
  },
  {
   "cell_type": "code",
   "execution_count": 129,
   "metadata": {},
   "outputs": [],
   "source": [
    "X_train['MasVnrArea'] = X_train['MasVnrArea'].fillna(0)"
   ]
  },
  {
   "cell_type": "code",
   "execution_count": 142,
   "metadata": {},
   "outputs": [
    {
     "name": "stdout",
     "output_type": "stream",
     "text": [
      "LotFrontage     0.185788\n",
      "BsmtQual        0.023973\n",
      "BsmtCond        0.023973\n",
      "BsmtExposure    0.023973\n",
      "BsmtFinType1    0.023973\n",
      "BsmtFinType2    0.023973\n",
      "Electrical      0.000856\n",
      "FireplaceQu     0.468322\n",
      "GarageType      0.054795\n",
      "GarageYrBlt     0.054795\n",
      "GarageFinish    0.054795\n",
      "GarageQual      0.054795\n",
      "GarageCond      0.054795\n",
      "dtype: float64\n"
     ]
    }
   ],
   "source": [
    "with pd.option_context('display.max_rows', None):\n",
    "    print(X_train.isna().mean()[X_train.isna().mean() > 0])"
   ]
  },
  {
   "cell_type": "code",
   "execution_count": 171,
   "metadata": {},
   "outputs": [
    {
     "name": "stdout",
     "output_type": "stream",
     "text": [
      "Fireplaces\n",
      "0    547\n",
      "1    524\n",
      "2     93\n",
      "3      4\n",
      "Name: count, dtype: int64\n",
      "FireplaceQu\n",
      "0    547\n",
      "4    305\n",
      "3    252\n",
      "2     27\n",
      "5     21\n",
      "1     16\n",
      "Name: count, dtype: int64\n"
     ]
    }
   ],
   "source": [
    "print(X_train['Fireplaces'].value_counts(dropna=False))\n",
    "print(X_train['FireplaceQu'].value_counts(dropna=False))"
   ]
  },
  {
   "cell_type": "code",
   "execution_count": 173,
   "metadata": {},
   "outputs": [],
   "source": [
    "fireplace_qu_map = {\n",
    "    'No Fireplace': 0,\n",
    "    'Po': 1,\n",
    "    'Fa': 2,\n",
    "    'TA': 3,\n",
    "    'Gd': 4,\n",
    "    'Ex': 5\n",
    "}\n",
    "\n",
    "X_train['FireplaceQu'] = X_train['FireplaceQu'].fillna('No Fireplace')\n",
    "X_train['FireplaceQu'] = X_train['FireplaceQu'].replace(fireplace_qu_map)"
   ]
  },
  {
   "cell_type": "code",
   "execution_count": 175,
   "metadata": {},
   "outputs": [
    {
     "name": "stdout",
     "output_type": "stream",
     "text": [
      "Fireplaces\n",
      "0    547\n",
      "1    524\n",
      "2     93\n",
      "3      4\n",
      "Name: count, dtype: int64\n",
      "FireplaceQu\n",
      "0    547\n",
      "4    305\n",
      "3    252\n",
      "2     27\n",
      "5     21\n",
      "1     16\n",
      "Name: count, dtype: int64\n"
     ]
    }
   ],
   "source": [
    "print(X_train['Fireplaces'].value_counts(dropna=False))\n",
    "print(X_train['FireplaceQu'].value_counts(dropna=False))"
   ]
  },
  {
   "cell_type": "code",
   "execution_count": 176,
   "metadata": {},
   "outputs": [
    {
     "name": "stdout",
     "output_type": "stream",
     "text": [
      "LotFrontage     0.185788\n",
      "BsmtQual        0.023973\n",
      "BsmtCond        0.023973\n",
      "BsmtExposure    0.023973\n",
      "BsmtFinType1    0.023973\n",
      "BsmtFinType2    0.023973\n",
      "Electrical      0.000856\n",
      "GarageType      0.054795\n",
      "GarageYrBlt     0.054795\n",
      "GarageFinish    0.054795\n",
      "GarageQual      0.054795\n",
      "GarageCond      0.054795\n",
      "dtype: float64\n"
     ]
    }
   ],
   "source": [
    "with pd.option_context('display.max_rows', None):\n",
    "    print(X_train.isna().mean()[X_train.isna().mean() > 0])"
   ]
  },
  {
   "cell_type": "code",
   "execution_count": 180,
   "metadata": {},
   "outputs": [
    {
     "name": "stdout",
     "output_type": "stream",
     "text": [
      "LotFrontage\n",
      "0.0      217\n",
      "60.0     112\n",
      "70.0      57\n",
      "80.0      54\n",
      "50.0      47\n",
      "        ... \n",
      "182.0      1\n",
      "174.0      1\n",
      "38.0       1\n",
      "101.0      1\n",
      "153.0      1\n",
      "Name: count, Length: 108, dtype: int64\n"
     ]
    }
   ],
   "source": [
    "X_train['LotFrontage'] = X_train['LotFrontage'].fillna(0)\n",
    "print(X_train['LotFrontage'].value_counts(dropna=False))"
   ]
  },
  {
   "cell_type": "code",
   "execution_count": 183,
   "metadata": {},
   "outputs": [
    {
     "name": "stdout",
     "output_type": "stream",
     "text": [
      "BsmtQual        0.023973\n",
      "BsmtCond        0.023973\n",
      "BsmtExposure    0.023973\n",
      "BsmtFinType1    0.023973\n",
      "BsmtFinType2    0.023973\n",
      "Electrical      0.000856\n",
      "GarageType      0.054795\n",
      "GarageYrBlt     0.054795\n",
      "GarageFinish    0.054795\n",
      "GarageQual      0.054795\n",
      "GarageCond      0.054795\n",
      "dtype: float64\n"
     ]
    }
   ],
   "source": [
    "with pd.option_context('display.max_rows', None):\n",
    "    print(X_train.isna().mean()[X_train.isna().mean() > 0])"
   ]
  },
  {
   "cell_type": "code",
   "execution_count": 187,
   "metadata": {},
   "outputs": [
    {
     "data": {
      "text/plain": [
       "Electrical\n",
       "SBrkr    1072\n",
       "FuseA      69\n",
       "FuseF      24\n",
       "FuseP       3\n",
       "Name: count, dtype: int64"
      ]
     },
     "execution_count": 187,
     "metadata": {},
     "output_type": "execute_result"
    }
   ],
   "source": [
    "X_train['Electrical'].value_counts(dropna=False)"
   ]
  },
  {
   "cell_type": "code",
   "execution_count": 188,
   "metadata": {},
   "outputs": [],
   "source": [
    "most_common = X_train['Electrical'].mode()[0]\n",
    "X_train['Electrical'].fillna(most_common, inplace=True)\n"
   ]
  },
  {
   "cell_type": "code",
   "execution_count": 189,
   "metadata": {},
   "outputs": [
    {
     "name": "stdout",
     "output_type": "stream",
     "text": [
      "BsmtQual        0.023973\n",
      "BsmtCond        0.023973\n",
      "BsmtExposure    0.023973\n",
      "BsmtFinType1    0.023973\n",
      "BsmtFinType2    0.023973\n",
      "GarageType      0.054795\n",
      "GarageYrBlt     0.054795\n",
      "GarageFinish    0.054795\n",
      "GarageQual      0.054795\n",
      "GarageCond      0.054795\n",
      "dtype: float64\n"
     ]
    }
   ],
   "source": [
    "with pd.option_context('display.max_rows', None):\n",
    "    print(X_train.isna().mean()[X_train.isna().mean() > 0])"
   ]
  },
  {
   "cell_type": "code",
   "execution_count": 191,
   "metadata": {},
   "outputs": [],
   "source": [
    "no_basement_value = \"No Basement\"\n",
    "basement_fields = ['BsmtQual', 'BsmtCond', 'BsmtExposure', 'BsmtFinType1', 'BsmtFinType2']\n",
    "# Replace NaN values in the basement columns with 'No Basement'\n",
    "for field in basement_fields:\n",
    "    X_train[field].fillna(no_basement_value, inplace=True)"
   ]
  },
  {
   "cell_type": "code",
   "execution_count": 212,
   "metadata": {},
   "outputs": [
    {
     "name": "stderr",
     "output_type": "stream",
     "text": [
      "/tmp/ipykernel_149635/1310629579.py:8: FutureWarning: A value is trying to be set on a copy of a DataFrame or Series through chained assignment using an inplace method.\n",
      "The behavior will change in pandas 3.0. This inplace method will never work because the intermediate object on which we are setting values always behaves as a copy.\n",
      "\n",
      "For example, when doing 'df[col].method(value, inplace=True)', try using 'df.method({col: value}, inplace=True)' or df[col] = df[col].method(value) instead, to perform the operation inplace on the original object.\n",
      "\n",
      "\n",
      "  X_train['GarageYrBlt'].fillna(X_train['GarageYrBlt'].median(), inplace=True)\n"
     ]
    }
   ],
   "source": [
    "no_garage_value = \"No Garage\"\n",
    "\n",
    "garage_cat_fields = ['GarageType', 'GarageFinish', 'GarageQual', 'GarageCond']\n",
    "\n",
    "for field in garage_cat_fields:\n",
    "    X_train[field].fillna(no_garage_value, inplace=True)\n",
    "\n",
    "X_train['GarageYrBlt'].fillna(X_train['GarageYrBlt'].median(), inplace=True)"
   ]
  },
  {
   "cell_type": "code",
   "execution_count": 216,
   "metadata": {},
   "outputs": [
    {
     "name": "stdout",
     "output_type": "stream",
     "text": [
      "Series([], dtype: float64)\n"
     ]
    }
   ],
   "source": [
    "with pd.option_context('display.max_rows', None):\n",
    "    print(X_train.isna().mean()[X_train.isna().mean() > 0])"
   ]
  }
 ],
 "metadata": {
  "kernelspec": {
   "display_name": "venv",
   "language": "python",
   "name": "python3"
  },
  "language_info": {
   "codemirror_mode": {
    "name": "ipython",
    "version": 3
   },
   "file_extension": ".py",
   "mimetype": "text/x-python",
   "name": "python",
   "nbconvert_exporter": "python",
   "pygments_lexer": "ipython3",
   "version": "3.12.3"
  }
 },
 "nbformat": 4,
 "nbformat_minor": 2
}
