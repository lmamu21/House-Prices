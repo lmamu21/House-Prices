{
 "cells": [
  {
   "cell_type": "markdown",
   "metadata": {},
   "source": [
    "# imports and setup"
   ]
  },
  {
   "cell_type": "code",
   "execution_count": 1,
   "metadata": {},
   "outputs": [],
   "source": [
    "import pandas as pd\n",
    "import numpy as np\n",
    "from sklearn.model_selection import train_test_split"
   ]
  },
  {
   "cell_type": "code",
   "execution_count": 2,
   "metadata": {},
   "outputs": [
    {
     "data": {
      "text/html": [
       "<pre style=\"white-space:pre;overflow-x:auto;line-height:normal;font-family:Menlo,'DejaVu Sans Mono',consolas,'Courier New',monospace\">Accessing as lmamu21\n",
       "</pre>\n"
      ],
      "text/plain": [
       "Accessing as lmamu21\n"
      ]
     },
     "metadata": {},
     "output_type": "display_data"
    },
    {
     "data": {
      "text/html": [
       "<pre style=\"white-space:pre;overflow-x:auto;line-height:normal;font-family:Menlo,'DejaVu Sans Mono',consolas,'Courier New',monospace\">Initialized MLflow to track repo <span style=\"color: #008000; text-decoration-color: #008000\">\"lmamu21/House-Prices\"</span>\n",
       "</pre>\n"
      ],
      "text/plain": [
       "Initialized MLflow to track repo \u001b[32m\"lmamu21/House-Prices\"\u001b[0m\n"
      ]
     },
     "metadata": {},
     "output_type": "display_data"
    },
    {
     "data": {
      "text/html": [
       "<pre style=\"white-space:pre;overflow-x:auto;line-height:normal;font-family:Menlo,'DejaVu Sans Mono',consolas,'Courier New',monospace\">Repository lmamu21/House-Prices initialized!\n",
       "</pre>\n"
      ],
      "text/plain": [
       "Repository lmamu21/House-Prices initialized!\n"
      ]
     },
     "metadata": {},
     "output_type": "display_data"
    }
   ],
   "source": [
    "# dagshub setup\n",
    "import dagshub\n",
    "\n",
    "dagshub.init(repo_owner='lmamu21', repo_name='House-Prices', mlflow=True)"
   ]
  },
  {
   "cell_type": "code",
   "execution_count": 3,
   "metadata": {},
   "outputs": [],
   "source": [
    "import os\n",
    "os.environ['MLFLOW_TRACKING_USERNAME'] = 'lmamu21' \n",
    "os.environ['MLFLOW_TRACKING_PASSWORD'] = 'd392b86afa2c37911a6814230b474c4b5df06fcb'\n",
    "os.environ['MLFLOW_TRACKING_URI'] = 'https://dagshub.com/lmamu21/House-Prices.mlflow'"
   ]
  },
  {
   "cell_type": "code",
   "execution_count": 4,
   "metadata": {},
   "outputs": [
    {
     "data": {
      "text/plain": [
       "<Experiment: artifact_location='mlflow-artifacts:/f9ed4fdc67b34e6b8b9d059aa67ad3d5', creation_time=1744051643876, experiment_id='3', last_update_time=1744051643876, lifecycle_stage='active', name='House-Prices', tags={}>"
      ]
     },
     "execution_count": 4,
     "metadata": {},
     "output_type": "execute_result"
    }
   ],
   "source": [
    "import mlflow\n",
    "mlflow.set_tracking_uri(\"https://dagshub.com/lmamu21/House-Prices.mlflow\")\n",
    "mlflow.set_experiment(\"House-Prices\")"
   ]
  },
  {
   "cell_type": "code",
   "execution_count": 5,
   "metadata": {},
   "outputs": [],
   "source": [
    "test = pd.read_csv(\"../data/test.csv\")\n",
    "train = pd.read_csv(\"../data/train.csv\")\n",
    "sample = pd.read_csv(\"../data/sample_submission.csv\")\n"
   ]
  },
  {
   "cell_type": "code",
   "execution_count": 6,
   "metadata": {},
   "outputs": [],
   "source": [
    "from sklearn.model_selection import train_test_split\n",
    "\n",
    "X = train.drop(columns=['SalePrice'])  # train dataframe remains unchanged, X is now train dataframe without SalePrice\n",
    "y = train['SalePrice']                 # train dataframe SalePrices is copied to y\n",
    "\n",
    "X_train, X_test, y_train, y_test = train_test_split(X, y, test_size=0.2, random_state=42)\n"
   ]
  },
  {
   "cell_type": "markdown",
   "metadata": {},
   "source": [
    "# data cleaning"
   ]
  },
  {
   "cell_type": "code",
   "execution_count": 7,
   "metadata": {},
   "outputs": [],
   "source": [
    "train_ids = X_train.pop('Id')\n",
    "test_ids = X_test.pop('Id')"
   ]
  },
  {
   "cell_type": "markdown",
   "metadata": {},
   "source": [
    "### NA values"
   ]
  },
  {
   "cell_type": "code",
   "execution_count": 8,
   "metadata": {},
   "outputs": [
    {
     "name": "stdout",
     "output_type": "stream",
     "text": [
      "LotFrontage     0.185788\n",
      "Alley           0.936644\n",
      "MasVnrType      0.584760\n",
      "MasVnrArea      0.005137\n",
      "BsmtQual        0.023973\n",
      "BsmtCond        0.023973\n",
      "BsmtExposure    0.023973\n",
      "BsmtFinType1    0.023973\n",
      "BsmtFinType2    0.023973\n",
      "Electrical      0.000856\n",
      "FireplaceQu     0.468322\n",
      "GarageType      0.054795\n",
      "GarageYrBlt     0.054795\n",
      "GarageFinish    0.054795\n",
      "GarageQual      0.054795\n",
      "GarageCond      0.054795\n",
      "PoolQC          0.994863\n",
      "Fence           0.800514\n",
      "MiscFeature     0.960616\n",
      "dtype: float64\n",
      "LotFrontage     0.143836\n",
      "Alley           0.941781\n",
      "MasVnrType      0.647260\n",
      "MasVnrArea      0.006849\n",
      "BsmtQual        0.030822\n",
      "BsmtCond        0.030822\n",
      "BsmtExposure    0.034247\n",
      "BsmtFinType1    0.030822\n",
      "BsmtFinType2    0.034247\n",
      "FireplaceQu     0.489726\n",
      "GarageType      0.058219\n",
      "GarageYrBlt     0.058219\n",
      "GarageFinish    0.058219\n",
      "GarageQual      0.058219\n",
      "GarageCond      0.058219\n",
      "PoolQC          0.996575\n",
      "Fence           0.835616\n",
      "MiscFeature     0.972603\n",
      "dtype: float64\n"
     ]
    }
   ],
   "source": [
    "with pd.option_context('display.max_rows', None):\n",
    "    print(X_train.isna().mean()[X_train.isna().mean() > 0])\n",
    "    print(X_test.isna().mean()[X_test.isna().mean() > 0])"
   ]
  },
  {
   "cell_type": "code",
   "execution_count": 9,
   "metadata": {},
   "outputs": [
    {
     "name": "stdout",
     "output_type": "stream",
     "text": [
      "PoolArea\n",
      "0      1162\n",
      "648       1\n",
      "555       1\n",
      "480       1\n",
      "512       1\n",
      "519       1\n",
      "738       1\n",
      "Name: count, dtype: int64\n",
      "PoolQC\n",
      "NaN    1162\n",
      "Fa        2\n",
      "Ex        2\n",
      "Gd        2\n",
      "Name: count, dtype: int64\n",
      "0.9948630136986302\n",
      "PoolArea\n",
      "0      291\n",
      "576      1\n",
      "Name: count, dtype: int64\n",
      "PoolQC\n",
      "NaN    291\n",
      "Gd       1\n",
      "Name: count, dtype: int64\n",
      "0.9965753424657534\n"
     ]
    }
   ],
   "source": [
    "print(X_train['PoolArea'].value_counts(dropna=False))\n",
    "print(X_train['PoolQC'].value_counts(dropna=False))\n",
    "print(X_train['PoolQC'].isna().mean())    # 99.4% of PoolQC records are NA\n",
    "\n",
    "print(X_test['PoolArea'].value_counts(dropna=False))\n",
    "print(X_test['PoolQC'].value_counts(dropna=False))\n",
    "print(X_test['PoolQC'].isna().mean()) "
   ]
  },
  {
   "cell_type": "code",
   "execution_count": 10,
   "metadata": {},
   "outputs": [],
   "source": [
    "PoolQC_train = X_train.pop('PoolQC')\n",
    "PoolQC_test = X_test.pop('PoolQC')"
   ]
  },
  {
   "cell_type": "code",
   "execution_count": 11,
   "metadata": {},
   "outputs": [
    {
     "name": "stdout",
     "output_type": "stream",
     "text": [
      "MiscFeature\n",
      "NaN     1122\n",
      "Shed      41\n",
      "Othr       2\n",
      "Gar2       2\n",
      "TenC       1\n",
      "Name: count, dtype: int64\n",
      "MiscVal\n",
      "0        1124\n",
      "400         8\n",
      "500         8\n",
      "700         5\n",
      "450         4\n",
      "2000        4\n",
      "1200        2\n",
      "480         2\n",
      "15500       1\n",
      "600         1\n",
      "3500        1\n",
      "8300        1\n",
      "1300        1\n",
      "800         1\n",
      "350         1\n",
      "620         1\n",
      "1150        1\n",
      "1400        1\n",
      "2500        1\n",
      "Name: count, dtype: int64\n"
     ]
    }
   ],
   "source": [
    "print(X_train['MiscFeature'].value_counts(dropna=False))\n",
    "print(X_train['MiscVal'].value_counts(dropna=False))"
   ]
  },
  {
   "cell_type": "code",
   "execution_count": 12,
   "metadata": {},
   "outputs": [],
   "source": [
    "MiscFeature_train = X_train.pop('MiscFeature')\n",
    "MiscVal_train = X_train.pop('MiscVal')\n",
    "\n",
    "MiscFeature_test = X_test.pop('MiscFeature')\n",
    "MiscVal_test = X_test.pop('MiscVal')"
   ]
  },
  {
   "cell_type": "code",
   "execution_count": 13,
   "metadata": {},
   "outputs": [
    {
     "data": {
      "text/plain": [
       "Alley\n",
       "NaN     1094\n",
       "Grvl      44\n",
       "Pave      30\n",
       "Name: count, dtype: int64"
      ]
     },
     "execution_count": 13,
     "metadata": {},
     "output_type": "execute_result"
    }
   ],
   "source": [
    "X_train['Alley'].value_counts(dropna=False)"
   ]
  },
  {
   "cell_type": "code",
   "execution_count": 14,
   "metadata": {},
   "outputs": [],
   "source": [
    "Alley_train = X_train.pop('Alley')\n",
    "Alley_test = X_test.pop('Alley')"
   ]
  },
  {
   "cell_type": "code",
   "execution_count": 15,
   "metadata": {},
   "outputs": [
    {
     "data": {
      "text/plain": [
       "Fence\n",
       "NaN      935\n",
       "MnPrv    128\n",
       "GdPrv     50\n",
       "GdWo      46\n",
       "MnWw       9\n",
       "Name: count, dtype: int64"
      ]
     },
     "execution_count": 15,
     "metadata": {},
     "output_type": "execute_result"
    }
   ],
   "source": [
    "X_train['Fence'].value_counts(dropna=False)"
   ]
  },
  {
   "cell_type": "code",
   "execution_count": 16,
   "metadata": {},
   "outputs": [],
   "source": [
    "X_train['Fence'] = X_train['Fence'].notna()  # changed Fence to binary data -> has Fend or not\n",
    "X_test['Fence'] = X_test['Fence'].notna()"
   ]
  },
  {
   "cell_type": "code",
   "execution_count": 17,
   "metadata": {},
   "outputs": [
    {
     "data": {
      "text/plain": [
       "Fence\n",
       "False    935\n",
       "True     233\n",
       "Name: count, dtype: int64"
      ]
     },
     "execution_count": 17,
     "metadata": {},
     "output_type": "execute_result"
    }
   ],
   "source": [
    "X_train['Fence'].value_counts(dropna=False)"
   ]
  },
  {
   "cell_type": "code",
   "execution_count": 18,
   "metadata": {},
   "outputs": [
    {
     "data": {
      "text/plain": [
       "np.float64(0.5847602739726028)"
      ]
     },
     "execution_count": 18,
     "metadata": {},
     "output_type": "execute_result"
    }
   ],
   "source": [
    "X_train['MasVnrType'].isna().mean()"
   ]
  },
  {
   "cell_type": "code",
   "execution_count": 19,
   "metadata": {},
   "outputs": [],
   "source": [
    "MasVnrType_train = X_train.pop('MasVnrType')\n",
    "MasVnrType_test = X_test.pop('MasVnrType')"
   ]
  },
  {
   "cell_type": "code",
   "execution_count": 20,
   "metadata": {},
   "outputs": [],
   "source": [
    "X_train['MasVnrArea'] = X_train['MasVnrArea'].fillna(0) \n",
    "X_test['MasVnrArea'] = X_test['MasVnrArea'].fillna(0)"
   ]
  },
  {
   "cell_type": "code",
   "execution_count": 21,
   "metadata": {},
   "outputs": [
    {
     "name": "stdout",
     "output_type": "stream",
     "text": [
      "Fireplaces\n",
      "0    547\n",
      "1    524\n",
      "2     93\n",
      "3      4\n",
      "Name: count, dtype: int64\n",
      "FireplaceQu\n",
      "NaN    547\n",
      "Gd     305\n",
      "TA     252\n",
      "Fa      27\n",
      "Ex      21\n",
      "Po      16\n",
      "Name: count, dtype: int64\n"
     ]
    }
   ],
   "source": [
    "print(X_train['Fireplaces'].value_counts(dropna=False))\n",
    "print(X_train['FireplaceQu'].value_counts(dropna=False))"
   ]
  },
  {
   "cell_type": "code",
   "execution_count": 22,
   "metadata": {},
   "outputs": [
    {
     "name": "stderr",
     "output_type": "stream",
     "text": [
      "/tmp/ipykernel_158139/382518810.py:11: FutureWarning: Downcasting behavior in `replace` is deprecated and will be removed in a future version. To retain the old behavior, explicitly call `result.infer_objects(copy=False)`. To opt-in to the future behavior, set `pd.set_option('future.no_silent_downcasting', True)`\n",
      "  X_train['FireplaceQu'] = X_train['FireplaceQu'].replace(fireplace_qu_map)\n",
      "/tmp/ipykernel_158139/382518810.py:14: FutureWarning: Downcasting behavior in `replace` is deprecated and will be removed in a future version. To retain the old behavior, explicitly call `result.infer_objects(copy=False)`. To opt-in to the future behavior, set `pd.set_option('future.no_silent_downcasting', True)`\n",
      "  X_test['FireplaceQu'] = X_test['FireplaceQu'].replace(fireplace_qu_map)\n"
     ]
    }
   ],
   "source": [
    "fireplace_qu_map = {\n",
    "    'No Fireplace': 0,\n",
    "    'Po': 1,\n",
    "    'Fa': 2,\n",
    "    'TA': 3,\n",
    "    'Gd': 4,\n",
    "    'Ex': 5\n",
    "}\n",
    "\n",
    "X_train['FireplaceQu'] = X_train['FireplaceQu'].fillna('No Fireplace')\n",
    "X_train['FireplaceQu'] = X_train['FireplaceQu'].replace(fireplace_qu_map)\n",
    "\n",
    "X_test['FireplaceQu'] = X_test['FireplaceQu'].fillna('No Fireplace')\n",
    "X_test['FireplaceQu'] = X_test['FireplaceQu'].replace(fireplace_qu_map)"
   ]
  },
  {
   "cell_type": "code",
   "execution_count": 23,
   "metadata": {},
   "outputs": [
    {
     "name": "stdout",
     "output_type": "stream",
     "text": [
      "Fireplaces\n",
      "0    547\n",
      "1    524\n",
      "2     93\n",
      "3      4\n",
      "Name: count, dtype: int64\n",
      "FireplaceQu\n",
      "0    547\n",
      "4    305\n",
      "3    252\n",
      "2     27\n",
      "5     21\n",
      "1     16\n",
      "Name: count, dtype: int64\n"
     ]
    }
   ],
   "source": [
    "print(X_train['Fireplaces'].value_counts(dropna=False))\n",
    "print(X_train['FireplaceQu'].value_counts(dropna=False))"
   ]
  },
  {
   "cell_type": "code",
   "execution_count": 24,
   "metadata": {},
   "outputs": [
    {
     "name": "stdout",
     "output_type": "stream",
     "text": [
      "LotFrontage\n",
      "0.0      217\n",
      "60.0     112\n",
      "70.0      57\n",
      "80.0      54\n",
      "50.0      47\n",
      "        ... \n",
      "182.0      1\n",
      "174.0      1\n",
      "38.0       1\n",
      "101.0      1\n",
      "153.0      1\n",
      "Name: count, Length: 108, dtype: int64\n",
      "LotFrontage\n",
      "0.0      42\n",
      "60.0     31\n",
      "80.0     15\n",
      "70.0     13\n",
      "75.0     11\n",
      "         ..\n",
      "32.0      1\n",
      "107.0     1\n",
      "41.0      1\n",
      "36.0      1\n",
      "124.0     1\n",
      "Name: count, Length: 70, dtype: int64\n"
     ]
    }
   ],
   "source": [
    "X_train['LotFrontage'] = X_train['LotFrontage'].fillna(0)\n",
    "print(X_train['LotFrontage'].value_counts(dropna=False))\n",
    "\n",
    "X_test['LotFrontage'] = X_test['LotFrontage'].fillna(0)\n",
    "print(X_test['LotFrontage'].value_counts(dropna=False))"
   ]
  },
  {
   "cell_type": "code",
   "execution_count": 25,
   "metadata": {},
   "outputs": [
    {
     "data": {
      "text/plain": [
       "Electrical\n",
       "SBrkr    1071\n",
       "FuseA      69\n",
       "FuseF      24\n",
       "FuseP       3\n",
       "NaN         1\n",
       "Name: count, dtype: int64"
      ]
     },
     "execution_count": 25,
     "metadata": {},
     "output_type": "execute_result"
    }
   ],
   "source": [
    "X_train['Electrical'].value_counts(dropna=False)"
   ]
  },
  {
   "cell_type": "code",
   "execution_count": 26,
   "metadata": {},
   "outputs": [
    {
     "name": "stderr",
     "output_type": "stream",
     "text": [
      "/tmp/ipykernel_158139/17468073.py:2: FutureWarning: A value is trying to be set on a copy of a DataFrame or Series through chained assignment using an inplace method.\n",
      "The behavior will change in pandas 3.0. This inplace method will never work because the intermediate object on which we are setting values always behaves as a copy.\n",
      "\n",
      "For example, when doing 'df[col].method(value, inplace=True)', try using 'df.method({col: value}, inplace=True)' or df[col] = df[col].method(value) instead, to perform the operation inplace on the original object.\n",
      "\n",
      "\n",
      "  X_train['Electrical'].fillna(most_common, inplace=True)\n",
      "/tmp/ipykernel_158139/17468073.py:3: FutureWarning: A value is trying to be set on a copy of a DataFrame or Series through chained assignment using an inplace method.\n",
      "The behavior will change in pandas 3.0. This inplace method will never work because the intermediate object on which we are setting values always behaves as a copy.\n",
      "\n",
      "For example, when doing 'df[col].method(value, inplace=True)', try using 'df.method({col: value}, inplace=True)' or df[col] = df[col].method(value) instead, to perform the operation inplace on the original object.\n",
      "\n",
      "\n",
      "  X_test['Electrical'].fillna(most_common, inplace=True)   # filling test data from most_common of train data is intentional to avoid data leakage\n"
     ]
    }
   ],
   "source": [
    "most_common = X_train['Electrical'].mode()[0]\n",
    "X_train['Electrical'].fillna(most_common, inplace=True)\n",
    "X_test['Electrical'].fillna(most_common, inplace=True)   # filling test data from most_common of train data is intentional to avoid data leakage"
   ]
  },
  {
   "cell_type": "code",
   "execution_count": 27,
   "metadata": {},
   "outputs": [
    {
     "name": "stderr",
     "output_type": "stream",
     "text": [
      "/tmp/ipykernel_158139/3108809502.py:5: FutureWarning: A value is trying to be set on a copy of a DataFrame or Series through chained assignment using an inplace method.\n",
      "The behavior will change in pandas 3.0. This inplace method will never work because the intermediate object on which we are setting values always behaves as a copy.\n",
      "\n",
      "For example, when doing 'df[col].method(value, inplace=True)', try using 'df.method({col: value}, inplace=True)' or df[col] = df[col].method(value) instead, to perform the operation inplace on the original object.\n",
      "\n",
      "\n",
      "  X_train[field].fillna(no_basement_value, inplace=True)\n",
      "/tmp/ipykernel_158139/3108809502.py:6: FutureWarning: A value is trying to be set on a copy of a DataFrame or Series through chained assignment using an inplace method.\n",
      "The behavior will change in pandas 3.0. This inplace method will never work because the intermediate object on which we are setting values always behaves as a copy.\n",
      "\n",
      "For example, when doing 'df[col].method(value, inplace=True)', try using 'df.method({col: value}, inplace=True)' or df[col] = df[col].method(value) instead, to perform the operation inplace on the original object.\n",
      "\n",
      "\n",
      "  X_test[field].fillna(no_basement_value, inplace=True)\n"
     ]
    }
   ],
   "source": [
    "no_basement_value = \"No Basement\"\n",
    "basement_fields = ['BsmtQual', 'BsmtCond', 'BsmtExposure', 'BsmtFinType1', 'BsmtFinType2']\n",
    "# Replace NaN values in the basement columns with 'No Basement'\n",
    "for field in basement_fields:\n",
    "    X_train[field].fillna(no_basement_value, inplace=True)\n",
    "    X_test[field].fillna(no_basement_value, inplace=True)"
   ]
  },
  {
   "cell_type": "code",
   "execution_count": 28,
   "metadata": {},
   "outputs": [
    {
     "name": "stderr",
     "output_type": "stream",
     "text": [
      "/tmp/ipykernel_158139/2558598934.py:6: FutureWarning: A value is trying to be set on a copy of a DataFrame or Series through chained assignment using an inplace method.\n",
      "The behavior will change in pandas 3.0. This inplace method will never work because the intermediate object on which we are setting values always behaves as a copy.\n",
      "\n",
      "For example, when doing 'df[col].method(value, inplace=True)', try using 'df.method({col: value}, inplace=True)' or df[col] = df[col].method(value) instead, to perform the operation inplace on the original object.\n",
      "\n",
      "\n",
      "  X_train[field].fillna(no_garage_value, inplace=True)\n",
      "/tmp/ipykernel_158139/2558598934.py:7: FutureWarning: A value is trying to be set on a copy of a DataFrame or Series through chained assignment using an inplace method.\n",
      "The behavior will change in pandas 3.0. This inplace method will never work because the intermediate object on which we are setting values always behaves as a copy.\n",
      "\n",
      "For example, when doing 'df[col].method(value, inplace=True)', try using 'df.method({col: value}, inplace=True)' or df[col] = df[col].method(value) instead, to perform the operation inplace on the original object.\n",
      "\n",
      "\n",
      "  X_test[field].fillna(no_garage_value, inplace=True)\n",
      "/tmp/ipykernel_158139/2558598934.py:12: FutureWarning: A value is trying to be set on a copy of a DataFrame or Series through chained assignment using an inplace method.\n",
      "The behavior will change in pandas 3.0. This inplace method will never work because the intermediate object on which we are setting values always behaves as a copy.\n",
      "\n",
      "For example, when doing 'df[col].method(value, inplace=True)', try using 'df.method({col: value}, inplace=True)' or df[col] = df[col].method(value) instead, to perform the operation inplace on the original object.\n",
      "\n",
      "\n",
      "  X_train['GarageYrBlt'].fillna(median, inplace=True)\n",
      "/tmp/ipykernel_158139/2558598934.py:13: FutureWarning: A value is trying to be set on a copy of a DataFrame or Series through chained assignment using an inplace method.\n",
      "The behavior will change in pandas 3.0. This inplace method will never work because the intermediate object on which we are setting values always behaves as a copy.\n",
      "\n",
      "For example, when doing 'df[col].method(value, inplace=True)', try using 'df.method({col: value}, inplace=True)' or df[col] = df[col].method(value) instead, to perform the operation inplace on the original object.\n",
      "\n",
      "\n",
      "  X_test['GarageYrBlt'].fillna(median, inplace=True)\n"
     ]
    }
   ],
   "source": [
    "no_garage_value = \"No Garage\"\n",
    "\n",
    "garage_cat_fields = ['GarageType', 'GarageFinish', 'GarageQual', 'GarageCond']\n",
    "\n",
    "for field in garage_cat_fields:\n",
    "    X_train[field].fillna(no_garage_value, inplace=True)\n",
    "    X_test[field].fillna(no_garage_value, inplace=True)\n",
    "\n",
    "\n",
    "median = X_train['GarageYrBlt'].median()\n",
    "\n",
    "X_train['GarageYrBlt'].fillna(median, inplace=True)\n",
    "X_test['GarageYrBlt'].fillna(median, inplace=True)"
   ]
  },
  {
   "cell_type": "code",
   "execution_count": 29,
   "metadata": {},
   "outputs": [
    {
     "name": "stdout",
     "output_type": "stream",
     "text": [
      "Series([], dtype: float64)\n",
      "Series([], dtype: float64)\n"
     ]
    }
   ],
   "source": [
    "with pd.option_context('display.max_rows', None):\n",
    "    print(X_train.isna().mean()[X_train.isna().mean() > 0])\n",
    "    print(X_test.isna().mean()[X_test.isna().mean() > 0])"
   ]
  }
 ],
 "metadata": {
  "kernelspec": {
   "display_name": "venv",
   "language": "python",
   "name": "python3"
  },
  "language_info": {
   "codemirror_mode": {
    "name": "ipython",
    "version": 3
   },
   "file_extension": ".py",
   "mimetype": "text/x-python",
   "name": "python",
   "nbconvert_exporter": "python",
   "pygments_lexer": "ipython3",
   "version": "3.12.3"
  }
 },
 "nbformat": 4,
 "nbformat_minor": 2
}
